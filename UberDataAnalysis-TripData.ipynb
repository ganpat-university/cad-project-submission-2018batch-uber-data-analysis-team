{
  "nbformat": 4,
  "nbformat_minor": 0,
  "metadata": {
    "colab": {
      "name": "CAD_Project.ipynb",
      "provenance": [],
      "collapsed_sections": []
    },
    "kernelspec": {
      "name": "python3",
      "display_name": "Python 3"
    },
    "language_info": {
      "name": "python"
    }
  },
  "cells": [
    {
      "cell_type": "code",
      "metadata": {
        "id": "zCcXb5RTPTx1"
      },
      "source": [
        "import pandas as pd\n",
        "import numpy as np\n",
        "\n",
        "import matplotlib.pyplot as plt\n",
        "import seaborn as sns\n",
        "\n",
        "import streamlit as st"
      ],
      "execution_count": null,
      "outputs": []
    },
    {
      "cell_type": "code",
      "metadata": {
        "id": "PjDnMxRkPp4Y"
      },
      "source": [
        "uber = pd.read_csv('https://raw.githubusercontent.com/faspy/raw_data/main/trips_data.csv')"
      ],
      "execution_count": null,
      "outputs": []
    },
    {
      "cell_type": "code",
      "metadata": {
        "colab": {
          "base_uri": "https://localhost:8080/"
        },
        "id": "rdYFxmW-NrS2",
        "outputId": "ce850882-ae28-4006-d761-424b41069982"
      },
      "source": [
        "st.altair_chart(uber)"
      ],
      "execution_count": null,
      "outputs": [
        {
          "output_type": "execute_result",
          "data": {
            "text/plain": [
              "DeltaGenerator(_root_container=0, _provided_cursor=None, _parent=None, _block_type=None, _form_data=None)"
            ]
          },
          "metadata": {
            "tags": []
          },
          "execution_count": 7
        }
      ]
    },
    {
      "cell_type": "code",
      "metadata": {
        "colab": {
          "base_uri": "https://localhost:8080/"
        },
        "id": "FnEZ3BwwPs3e",
        "outputId": "3a52dc05-2899-490e-c1d5-1c669dc9ae59"
      },
      "source": [
        "uber.info()       # Checking Uber Dataset Basic Details"
      ],
      "execution_count": null,
      "outputs": [
        {
          "output_type": "stream",
          "text": [
            "<class 'pandas.core.frame.DataFrame'>\n",
            "RangeIndex: 554 entries, 0 to 553\n",
            "Data columns (total 13 columns):\n",
            " #   Column                Non-Null Count  Dtype  \n",
            "---  ------                --------------  -----  \n",
            " 0   City                  554 non-null    int64  \n",
            " 1   Product Type          551 non-null    object \n",
            " 2   Trip or Order Status  554 non-null    object \n",
            " 3   Request Time          554 non-null    object \n",
            " 4   Begin Trip Time       554 non-null    object \n",
            " 5   Begin Trip Lat        525 non-null    float64\n",
            " 6   Begin Trip Lng        525 non-null    float64\n",
            " 7   Dropoff Time          554 non-null    object \n",
            " 8   Dropoff Lat           525 non-null    float64\n",
            " 9   Dropoff Lng           525 non-null    float64\n",
            " 10  Distance (miles)      554 non-null    float64\n",
            " 11  Fare Amount           554 non-null    float64\n",
            " 12  Fare Currency         551 non-null    object \n",
            "dtypes: float64(6), int64(1), object(6)\n",
            "memory usage: 56.4+ KB\n"
          ],
          "name": "stdout"
        }
      ]
    },
    {
      "cell_type": "code",
      "metadata": {
        "id": "AoiIUOgLPuY7"
      },
      "source": [
        "uber.rename(columns={'City':'city', 'Product Type':'product_type', 'Trip or Order Status':'status', \n",
        "                     'Request Time':'request_time', 'Begin Trip Time':'begin_time',                         # Renaming Columns for ease Access \n",
        "                     'Begin Trip Lat':'begin_lat', 'Begin Trip Lng':'begin_lng',                            # and Normalize Column Names \n",
        "                     'Dropoff Time':'dropoff_time', 'Dropoff Lat':'dropoff_lat', \n",
        "                     'Dropoff Lng':'dropoff_lng', 'Distance (miles)':'distance_miles', \n",
        "                     'Fare Amount':'fare_amount', 'Fare Currency':'fare_currency'}, inplace=True)"
      ],
      "execution_count": null,
      "outputs": []
    },
    {
      "cell_type": "code",
      "metadata": {
        "id": "RlZdybKpVEKU",
        "colab": {
          "base_uri": "https://localhost:8080/",
          "height": 284
        },
        "outputId": "3b53b229-9736-4c50-a261-c45bd1e289ff"
      },
      "source": [
        "sns.scatterplot(x='distance_miles',y='fare_amount',data=uber);      # we have a strong correlation between ‘fare_amount’ and ‘distance_miles’, \n",
        "                                                                         # impling that as much you stay on the ride, higher will the fare be."
      ],
      "execution_count": null,
      "outputs": [
        {
          "output_type": "display_data",
          "data": {
            "image/png": "[encoded data removed]",
            "text/plain": [
              "<Figure size 432x288 with 1 Axes>"
            ]
          },
          "metadata": {
            "tags": [],
            "needs_background": "light"
          }
        }
      ]
    },
    {
      "cell_type": "code",
      "metadata": {
        "colab": {
          "base_uri": "https://localhost:8080/"
        },
        "id": "LGcTu5ZBnD5o",
        "outputId": "779c0b6c-1aad-459f-bd57-f708be0b9ae0"
      },
      "source": [
        "uber.isnull().sum().sort_values(ascending=False)                              # Checking Existance of Missing Values in dataset"
      ],
      "execution_count": null,
      "outputs": [
        {
          "output_type": "execute_result",
          "data": {
            "text/plain": [
              "dropoff_lng       29\n",
              "dropoff_lat       29\n",
              "begin_lng         29\n",
              "begin_lat         29\n",
              "fare_currency      3\n",
              "product_type       3\n",
              "fare_amount        0\n",
              "distance_miles     0\n",
              "dropoff_time       0\n",
              "begin_time         0\n",
              "request_time       0\n",
              "status             0\n",
              "city               0\n",
              "dtype: int64"
            ]
          },
          "metadata": {
            "tags": []
          },
          "execution_count": 6
        }
      ]
    },
    {
      "cell_type": "code",
      "metadata": {
        "id": "PiE6ic_glReP"
      },
      "source": [
        "uber[uber.product_type.isnull()]                        # This column signifies no records into our dataset, Hence Good idea is to drop them.\n",
        "uber.dropna(subset = ['product_type'], inplace=True)"
      ],
      "execution_count": null,
      "outputs": []
    },
    {
      "cell_type": "code",
      "metadata": {
        "colab": {
          "base_uri": "https://localhost:8080/"
        },
        "id": "Dphgsu7YnklU",
        "outputId": "bdda9cbf-c1c3-4085-ba0b-cd23434aacc4"
      },
      "source": [
        "# Checking categories in product_type column\n",
        "print(uber.product_type.value_counts())\n",
        "\n",
        "# Categories reclassification\n",
        "product_mapping = {'UberX':'UberX','uberX':'UberX','uberX VIP':'UberX','VIP':'UberX','POOL':'Pool','POOL: MATCHED':'Pool','UberBLACK': 'Black',\n",
        "                   'uberx':'UberX','uberPOOL':'Pool','uberPOOL: MATCHED':'Pool','Pool: MATCHED':'Pool'}\n",
        "\n",
        "# New categories replacement\n",
        "uber['product_type'].replace(product_mapping, inplace=True)\n",
        "\n",
        "# Checking new categories in product_type column\n",
        "print()\n",
        "print(uber.product_type.value_counts())                   # since We found different values referring to the same category. \n",
        "                                                          # We summarized 15 original categories in 5 ones."
      ],
      "execution_count": null,
      "outputs": [
        {
          "output_type": "stream",
          "text": [
            "UberX                   169\n",
            "uberX                   144\n",
            "uberX VIP                81\n",
            "VIP                      71\n",
            "POOL                     36\n",
            "Pool                     12\n",
            "UberEATS Marketplace     10\n",
            "POOL: MATCHED             8\n",
            "uberPOOL                  5\n",
            "uberPOOL: MATCHED         5\n",
            "Pool: MATCHED             4\n",
            "Black                     3\n",
            "UberBLACK                 1\n",
            "uberx                     1\n",
            "Juntos                    1\n",
            "Name: product_type, dtype: int64\n",
            "\n",
            "UberX                   466\n",
            "Pool                     70\n",
            "UberEATS Marketplace     10\n",
            "Black                     4\n",
            "Juntos                    1\n",
            "Name: product_type, dtype: int64\n"
          ],
          "name": "stdout"
        }
      ]
    },
    {
      "cell_type": "code",
      "metadata": {
        "id": "X-gebGKNrzt-"
      },
      "source": [
        "# Library for manipulating dates and times\n",
        "from datetime import datetime\n",
        "from datetime import timedelta\n",
        "\n",
        "# Function to convert features to datetime\n",
        "def convert_date(df, cols):\n",
        "  for col in cols:\n",
        "    df[col] = df[col].apply(lambda x:x.replace(' +0000 UTC', ''))\n",
        "    df[col] = pd.to_datetime(df[col])\n",
        "  return df\n",
        "\n",
        "# Applying date_convertion function to date features                                     # our dates features are in object data types, \n",
        "uber = convert_date(uber, ['request_time', 'begin_time', 'dropoff_time'])                # so we need to convert them into datetime format."
      ],
      "execution_count": null,
      "outputs": []
    },
    {
      "cell_type": "code",
      "metadata": {
        "colab": {
          "base_uri": "https://localhost:8080/"
        },
        "id": "Kq-Du1pUu1fd",
        "outputId": "1a295e37-4491-4cbd-844d-14083aaa0301"
      },
      "source": [
        "uber['year'] = uber.request_time.map(lambda x: datetime.strftime(x,\"%Y\"))\n",
        "uber['month'] = uber.request_time.map(lambda x: datetime.strftime(x,\"%b\"))               # Now, let’s break down <request_time> feature \n",
        "uber['weekday'] = uber.request_time.map(lambda x: datetime.strftime(x,\"%a\"))             # into different date parts.\n",
        "uber['time'] = uber.request_time.map(lambda x: datetime.strftime(x,\"%H:%M\"))\n",
        "print(uber['year']+'   '+uber['month']+'   '+uber['weekday']+'   '+uber['time'])"
      ],
      "execution_count": null,
      "outputs": [
        {
          "output_type": "stream",
          "text": [
            "0      2021   Jan   Wed   22:06\n",
            "1      2021   Jan   Wed   20:21\n",
            "2      2021   Jan   Sun   00:23\n",
            "3      2020   Dec   Fri   23:16\n",
            "4      2020   Dec   Fri   00:35\n",
            "                 ...           \n",
            "549    2016   Jun   Wed   11:07\n",
            "550    2016   Apr   Thu   00:30\n",
            "551    2016   Apr   Wed   21:16\n",
            "552    2016   Apr   Wed   21:12\n",
            "553    2015   Dec   Thu   23:52\n",
            "Length: 551, dtype: object\n"
          ],
          "name": "stdout"
        }
      ]
    },
    {
      "cell_type": "code",
      "metadata": {
        "colab": {
          "base_uri": "https://localhost:8080/"
        },
        "id": "qqCFJsHVx-Gz",
        "outputId": "28078d52-aaed-4cd4-b0b0-912e54f81694"
      },
      "source": [
        "uber['distance_in_km'] = round(uber.distance_miles*1.60934, 2)                           # Converting Distance in Km from Miles\n",
        "uber['amount_per_km'] = round(uber.fare_amount/uber.distance_in_km, 2)                   # Getting per Km Fare from total distance Travelled\n",
        "print(uber['distance_in_km'])\n",
        "print(uber['amount_per_km'])"
      ],
      "execution_count": null,
      "outputs": [
        {
          "output_type": "stream",
          "text": [
            "0       7.79\n",
            "1       8.55\n",
            "2       9.50\n",
            "3      31.77\n",
            "4       4.09\n",
            "       ...  \n",
            "549     3.54\n",
            "550     6.57\n",
            "551     5.55\n",
            "552     0.00\n",
            "553     0.00\n",
            "Name: distance_in_km, Length: 551, dtype: float64\n",
            "0      3.80\n",
            "1      2.44\n",
            "2      3.60\n",
            "3      1.85\n",
            "4      3.09\n",
            "       ... \n",
            "549    2.21\n",
            "550    2.29\n",
            "551    2.73\n",
            "552     NaN\n",
            "553     inf\n",
            "Name: amount_per_km, Length: 551, dtype: float64\n"
          ],
          "name": "stdout"
        }
      ]
    },
    {
      "cell_type": "code",
      "metadata": {
        "colab": {
          "base_uri": "https://localhost:8080/"
        },
        "id": "Mj6WySwtyBJr",
        "outputId": "6adf3b63-004a-4f6c-f202-d9eacb3de99c"
      },
      "source": [
        "# let us now check how much time (in minutes) I usually waited for Uber cars to arrive at my destination.\n",
        "uber['uber_requested_time'] = uber.begin_time - uber.request_time\n",
        "uber['uber_requested_time'] = uber['uber_requested_time'].apply(lambda x:round(x.total_seconds()/60, 1))\n",
        "print(uber['uber_requested_time'])"
      ],
      "execution_count": null,
      "outputs": [
        {
          "output_type": "stream",
          "text": [
            "0             4.4\n",
            "1             6.4\n",
            "2             9.6\n",
            "3            11.0\n",
            "4            11.0\n",
            "          ...    \n",
            "549           7.2\n",
            "550           4.6\n",
            "551           3.9\n",
            "552   -24332952.1\n",
            "553           8.2\n",
            "Name: uber_requested_time, Length: 551, dtype: float64\n"
          ],
          "name": "stdout"
        }
      ]
    },
    {
      "cell_type": "code",
      "metadata": {
        "colab": {
          "base_uri": "https://localhost:8080/"
        },
        "id": "xe5wvKvU0afB",
        "outputId": "5d4f16db-503a-41a3-fb55-dcdb39054959"
      },
      "source": [
        "# Similarly let us check how much time (in minutes) was spent on each trip.\n",
        "uber['trip_duration'] = uber.dropoff_time - uber.begin_time\n",
        "uber['trip_duration'] = uber['trip_duration'].apply(lambda x:round(x.total_seconds()/60, 1))\n",
        "print(uber['trip_duration'])"
      ],
      "execution_count": null,
      "outputs": [
        {
          "output_type": "stream",
          "text": [
            "0            18.1\n",
            "1            27.4\n",
            "2            17.9\n",
            "3            65.2\n",
            "4            11.2\n",
            "          ...    \n",
            "549          10.2\n",
            "550          14.8\n",
            "551          20.8\n",
            "552           0.0\n",
            "553   -24173281.0\n",
            "Name: trip_duration, Length: 551, dtype: float64\n"
          ],
          "name": "stdout"
        }
      ]
    },
    {
      "cell_type": "markdown",
      "metadata": {
        "id": "mozNukOYP94C"
      },
      "source": [
        "## **MODULE I : HOW MANY TRIPS UBER COMPLETED OVER THE YEARS**"
      ]
    },
    {
      "cell_type": "code",
      "metadata": {
        "colab": {
          "base_uri": "https://localhost:8080/",
          "height": 435
        },
        "id": "Rmu7qEEo1cTe",
        "outputId": "a2632532-c3f3-42e4-9c16-897082191ff7"
      },
      "source": [
        "# MODULE I : HOW MANY TRIPS UBER COMPLETED OVER THE YEARS\n",
        "completed_trips = uber[(uber.status!='CANCELED')&(uber.status!='DRIVER_CANCELED')]\n",
        "\n",
        "print(\"Total Completed Trips : \", completed_trips.status.count())\n",
        "print(completed_trips.year.value_counts().sort_index(ascending=True))\n",
        "sns.countplot(data=completed_trips, x='year', order=['2016','2017','2018','2019','2020','2021'], palette='bright')"
      ],
      "execution_count": null,
      "outputs": [
        {
          "output_type": "stream",
          "text": [
            "Total Completed Trips :  453\n",
            "2016     17\n",
            "2017    120\n",
            "2018    148\n",
            "2019    113\n",
            "2020     52\n",
            "2021      3\n",
            "Name: year, dtype: int64\n"
          ],
          "name": "stdout"
        },
        {
          "output_type": "execute_result",
          "data": {
            "text/plain": [
              "<matplotlib.axes._subplots.AxesSubplot at 0x7ff46a193e50>"
            ]
          },
          "metadata": {
            "tags": []
          },
          "execution_count": 14
        },
        {
          "output_type": "display_data",
          "data": {
            "image/png": "[encoded data removed]",
            "text/plain": [
              "<Figure size 432x288 with 1 Axes>"
            ]
          },
          "metadata": {
            "tags": [],
            "needs_background": "light"
          }
        }
      ]
    },
    {
      "cell_type": "markdown",
      "metadata": {
        "id": "GybjxR-MSnD0"
      },
      "source": [
        "# **MODULE II : HOW MANY TRIPS OF UBER WERE COMPLETED OR CANCELED**"
      ]
    },
    {
      "cell_type": "code",
      "metadata": {
        "colab": {
          "base_uri": "https://localhost:8080/",
          "height": 383
        },
        "id": "mGTAmU0w2NA3",
        "outputId": "a177e4e5-c254-4451-e18b-f55c4b6d66a6"
      },
      "source": [
        "# How many trips of Uber were completed or canceled?\n",
        "print('Total Trips : ', uber.status.count())\n",
        "print(round(uber.status.value_counts()/uber.status.size*100, 1))\n",
        "\n",
        "sns.countplot(data=uber, x='year', order=['2016','2017','2018','2019','2020','2021'], hue='status', palette='bright')"
      ],
      "execution_count": null,
      "outputs": [
        {
          "output_type": "stream",
          "text": [
            "Total Trips :  551\n",
            "COMPLETED          82.2\n",
            "CANCELED           16.0\n",
            "DRIVER_CANCELED     1.8\n",
            "Name: status, dtype: float64\n"
          ],
          "name": "stdout"
        },
        {
          "output_type": "execute_result",
          "data": {
            "text/plain": [
              "<matplotlib.axes._subplots.AxesSubplot at 0x7ff46a100e10>"
            ]
          },
          "metadata": {
            "tags": []
          },
          "execution_count": 15
        },
        {
          "output_type": "display_data",
          "data": {
            "image/png": "[encoded data removed]",
            "text/plain": [
              "<Figure size 432x288 with 1 Axes>"
            ]
          },
          "metadata": {
            "tags": [],
            "needs_background": "light"
          }
        }
      ]
    },
    {
      "cell_type": "markdown",
      "metadata": {
        "id": "Y5mVxulGcXMR"
      },
      "source": [
        "# **MODULE III : HEATMAP OF WHERE MOST OF UBER DROP-OFFS OCCURRED**\n",
        "# **[Using - Folium Python Library]**"
      ]
    },
    {
      "cell_type": "code",
      "metadata": {
        "id": "vuiFcAZT2gBe",
        "colab": {
          "base_uri": "https://localhost:8080/",
          "height": 763
        },
        "outputId": "fdf530ab-e86e-40a9-e920-b4dcddbd1419"
      },
      "source": [
        "# HEATMAP OF WHERE MOST OF UBER DROP-OFFS OCCURRED [Library - folium]\n",
        "# Folium help people visualize geospatial data\n",
        "import folium\n",
        "from folium import plugins\n",
        "\n",
        "coordinates = []\n",
        "for lat,lng in zip(completed_trips.dropoff_lat.values, completed_trips.dropoff_lng.values):\n",
        "  coordinates.append([lat, lng])\n",
        "\n",
        "map = folium.Map(\n",
        "    location = [-23.5489,-46.6388],         # Location of City : 'Sao Paulo'\n",
        "    tiles = 'cartodbpositron',\n",
        "    zoom_start = 7,\n",
        "    width = '100%',\n",
        "    height = '100%',\n",
        "    control_scale = True)\n",
        "\n",
        "map.add_child(plugins.HeatMap(coordinates))\n",
        "map"
      ],
      "execution_count": null,
      "outputs": [
        {
          "output_type": "execute_result",
          "data": {
            "text/html": [
              "<div style=\"width:100%;\"><div style=\"position:relative;width:100%;height:0;padding-bottom:60%;\"><span style=\"color:#565656\">Make this Notebook Trusted to load map: File -> Trust Notebook</span><iframe src=\"about:blank\" style=\"position:absolute;width:100%;height:100%;left:0;top:0;border:none !important;\" data-html=%3C%21DOCTYPE%20html%3E%0A%3Chead%3E%20%20%20%20%0A%20%20%20%20%3Cmeta%20http-equiv%3D%22content-type%22%20content%3D%22text/html%3B%20charset%3DUTF-8%22%20/%3E%0A%20%20%20%20%3Cscript%3EL_PREFER_CANVAS%3Dfalse%3B%20L_NO_TOUCH%3Dfalse%3B%20L_DISABLE_3D%3Dfalse%3B%3C/script%3E%0A%20%20%20%20%3Cscript%20src%3D%22https%3A//cdn.jsdelivr.net/npm/leaflet%401.4.0/dist/leaflet.js%22%3E%3C/script%3E%0A%20%20%20%20%3Cscript%20src%3D%22https%3A//code.jquery.com/jquery-1.12.4.min.js%22%3E%3C/script%3E%0A%20%20%20%20%3Cscript%20src%3D%22https%3A//maxcdn.bootstrapcdn.com/bootstrap/3.2.0/js/bootstrap.min.js%22%3E%3C/script%3E%0A%20%20%20%20%3Cscript%20src%3D%22https%3A//cdnjs.cloudflare.com/ajax/libs/Leaflet.awesome-markers/2.0.2/leaflet.awesome-markers.js%22%3E%3C/script%3E%0A%20%20%20%20%3Clink%20rel%3D%22stylesheet%22%20href%3D%22https%3A//cdn.jsdelivr.net/npm/leaflet%401.4.0/dist/leaflet.css%22/%3E%0A%20%20%20%20%3Clink%20rel%3D%22stylesheet%22%20href%3D%22https%3A//maxcdn.bootstrapcdn.com/bootstrap/3.2.0/css/bootstrap.min.css%22/%3E%0A%20%20%20%20%3Clink%20rel%3D%22stylesheet%22%20href%3D%22https%3A//maxcdn.bootstrapcdn.com/bootstrap/3.2.0/css/bootstrap-theme.min.css%22/%3E%0A%20%20%20%20%3Clink%20rel%3D%22stylesheet%22%20href%3D%22https%3A//maxcdn.bootstrapcdn.com/font-awesome/4.6.3/css/font-awesome.min.css%22/%3E%0A%20%20%20%20%3Clink%20rel%3D%22stylesheet%22%20href%3D%22https%3A//cdnjs.cloudflare.com/ajax/libs/Leaflet.awesome-markers/2.0.2/leaflet.awesome-markers.css%22/%3E%0A%20%20%20%20%3Clink%20rel%3D%22stylesheet%22%20href%3D%22https%3A//rawcdn.githack.com/python-visualization/folium/master/folium/templates/leaflet.awesome.rotate.css%22/%3E%0A%20%20%20%20%3Cstyle%3Ehtml%2C%20body%20%7Bwidth%3A%20100%25%3Bheight%3A%20100%25%3Bmargin%3A%200%3Bpadding%3A%200%3B%7D%3C/style%3E%0A%20%20%20%20%3Cstyle%3E%23map%20%7Bposition%3Aabsolute%3Btop%3A0%3Bbottom%3A0%3Bright%3A0%3Bleft%3A0%3B%7D%3C/style%3E%0A%20%20%20%20%0A%20%20%20%20%3Cmeta%20name%3D%22viewport%22%20content%3D%22width%3Ddevice-width%2C%0A%20%20%20%20%20%20%20%20initial-scale%3D1.0%2C%20maximum-scale%3D1.0%2C%20user-scalable%3Dno%22%20/%3E%0A%20%20%20%20%3Cstyle%3E%23map_f900fa382eea4d48bd36613919bd62a7%20%7B%0A%20%20%20%20%20%20%20%20position%3A%20relative%3B%0A%20%20%20%20%20%20%20%20width%3A%20100.0%25%3B%0A%20%20%20%20%20%20%20%20height%3A%20100.0%25%3B%0A%20%20%20%20%20%20%20%20left%3A%200.0%25%3B%0A%20%20%20%20%20%20%20%20top%3A%200.0%25%3B%0A%20%20%20%20%20%20%20%20%7D%0A%20%20%20%20%3C/style%3E%0A%20%20%20%20%3Cscript%20src%3D%22https%3A//leaflet.github.io/Leaflet.heat/dist/leaflet-heat.js%22%3E%3C/script%3E%0A%3C/head%3E%0A%3Cbody%3E%20%20%20%20%0A%20%20%20%20%0A%20%20%20%20%3Cdiv%20class%3D%22folium-map%22%20id%3D%22map_f900fa382eea4d48bd36613919bd62a7%22%20%3E%3C/div%3E%0A%3C/body%3E%0A%3Cscript%3E%20%20%20%20%0A%20%20%20%20%0A%20%20%20%20%0A%20%20%20%20%20%20%20%20var%20bounds%20%3D%20null%3B%0A%20%20%20%20%0A%0A%20%20%20%20var%20map_f900fa382eea4d48bd36613919bd62a7%20%3D%20L.map%28%0A%20%20%20%20%20%20%20%20%27map_f900fa382eea4d48bd36613919bd62a7%27%2C%20%7B%0A%20%20%20%20%20%20%20%20center%3A%20%5B-23.5489%2C%20-46.6388%5D%2C%0A%20%20%20%20%20%20%20%20zoom%3A%207%2C%0A%20%20%20%20%20%20%20%20maxBounds%3A%20bounds%2C%0A%20%20%20%20%20%20%20%20layers%3A%20%5B%5D%2C%0A%20%20%20%20%20%20%20%20worldCopyJump%3A%20false%2C%0A%20%20%20%20%20%20%20%20crs%3A%20L.CRS.EPSG3857%2C%0A%20%20%20%20%20%20%20%20zoomControl%3A%20true%2C%0A%20%20%20%20%20%20%20%20%7D%29%3B%0AL.control.scale%28%29.addTo%28map_f900fa382eea4d48bd36613919bd62a7%29%3B%0A%0A%20%20%20%20%0A%20%20%20%20var%20tile_layer_730c9588fb644b3982c8dc5b60831c41%20%3D%20L.tileLayer%28%0A%20%20%20%20%20%20%20%20%27https%3A//cartodb-basemaps-%7Bs%7D.global.ssl.fastly.net/light_all/%7Bz%7D/%7Bx%7D/%7By%7D.png%27%2C%0A%20%20%20%20%20%20%20%20%7B%0A%20%20%20%20%20%20%20%20%22attribution%22%3A%20null%2C%0A%20%20%20%20%20%20%20%20%22detectRetina%22%3A%20false%2C%0A%20%20%20%20%20%20%20%20%22maxNativeZoom%22%3A%2018%2C%0A%20%20%20%20%20%20%20%20%22maxZoom%22%3A%2018%2C%0A%20%20%20%20%20%20%20%20%22minZoom%22%3A%200%2C%0A%20%20%20%20%20%20%20%20%22noWrap%22%3A%20false%2C%0A%20%20%20%20%20%20%20%20%22opacity%22%3A%201%2C%0A%20%20%20%20%20%20%20%20%22subdomains%22%3A%20%22abc%22%2C%0A%20%20%20%20%20%20%20%20%22tms%22%3A%20false%0A%7D%29.addTo%28map_f900fa382eea4d48bd36613919bd62a7%29%3B%0A%20%20%20%20%0A%20%20%20%20%20%20%20%20%20%20%20%20var%20heat_map_427c397d61234a20ae101ad46cea22da%20%3D%20L.heatLayer%28%0A%20%20%20%20%20%20%20%20%20%20%20%20%20%20%20%20%5B%5B-23.559359%2C%20-46.666542%5D%2C%20%5B-23.599585%2C%20-46.715717%5D%2C%20%5B-23.559273%2C%20-46.666595%5D%2C%20%5B-23.425755%2C%20-46.481190000000005%5D%2C%20%5B-23.559261%2C%20-46.666509999999995%5D%2C%20%5B-23.6245%2C%20-46.701077000000005%5D%2C%20%5B-23.559233%2C%20-46.666546000000004%5D%2C%20%5B-23.559366%2C%20-46.666637%5D%2C%20%5B-23.54775%2C%20-46.644104%5D%2C%20%5B-23.559292000000003%2C%20-46.66655%5D%2C%20%5B-23.567545000000003%2C%20-46.66403%5D%2C%20%5B-23.559343%2C%20-46.666496%5D%2C%20%5B-23.566214000000002%2C%20-46.675385%5D%2C%20%5B-23.56196%2C%20-46.658190000000005%5D%2C%20%5B-23.624607%2C%20-46.701088%5D%2C%20%5B-23.55949%2C%20-46.66645%5D%2C%20%5B-23.624554%2C%20-46.701042%5D%2C%20%5B-23.5593595%2C%20-46.6665002%5D%2C%20%5B-23.624549899999998%2C%20-46.7011459%5D%2C%20%5B-23.6245747%2C%20-46.701121%5D%2C%20%5B-23.5594793%2C%20-46.6664565%5D%2C%20%5B-23.6247021%2C%20-46.7009501%5D%2C%20%5B-23.624489699999998%2C%20-46.7009874%5D%2C%20%5B-23.6249448%2C%20-46.701319399999996%5D%2C%20%5B-23.5593722%2C%20-46.6664251%5D%2C%20%5B-23.624910600000003%2C%20-46.7006571%5D%2C%20%5B-23.559562399999997%2C%20-46.6665394%5D%2C%20%5B-23.6245325%2C%20-46.7010044%5D%2C%20%5B-23.6245682%2C%20-46.7009553%5D%2C%20%5B-23.5594719%2C%20-46.66641129999999%5D%2C%20%5B-23.6246338%2C%20-46.7009416%5D%2C%20%5B-23.55945%2C%20-46.66646%5D%2C%20%5B-23.624521899999998%2C%20-46.70113610000001%5D%2C%20%5B-23.589769399999998%2C%20-46.634021399999995%5D%2C%20%5B-23.568199%2C%20-46.64810429999999%5D%2C%20%5B-23.559377899999998%2C%20-46.6664841%5D%2C%20%5B-23.6245191%2C%20-46.7010364%5D%2C%20%5B-23.624603%2C%20-46.7009155%5D%2C%20%5B-23.624540600000003%2C%20-46.7011174%5D%2C%20%5B-23.624573%2C%20-46.7009811%5D%2C%20%5B-23.554226999999997%2C%20-46.6560723%5D%2C%20%5B-23.6245017%2C%20-46.700992%5D%2C%20%5B-23.6245215%2C%20-46.701114600000004%5D%2C%20%5B-23.624533399999997%2C%20-46.7010361%5D%2C%20%5B-23.6245533%2C%20-46.700998999999996%5D%2C%20%5B-23.6245483%2C%20-46.700760700000004%5D%2C%20%5B-23.5592766%2C%20-46.666640799999996%5D%2C%20%5B-23.624563199999997%2C%20-46.701107799999996%5D%2C%20%5B-23.559292499999998%2C%20-46.6664492%5D%2C%20%5B-23.5593245%2C%20-46.666535700000004%5D%2C%20%5B-23.6245428%2C%20-46.701018299999994%5D%2C%20%5B-23.6244904%2C%20-46.70096420000001%5D%2C%20%5B-23.5593177%2C%20-46.66646970000001%5D%2C%20%5B-23.5897198%2C%20-46.6340898%5D%2C%20%5B-23.6247%2C%20-46.70114%5D%2C%20%5B-23.559347100000004%2C%20-46.6663865%5D%2C%20%5B-23.559959399999997%2C%20-46.6966915%5D%2C%20%5B-23.6236397%2C%20-46.699695500000004%5D%2C%20%5B-23.5666085%2C%20-46.679704%5D%2C%20%5B-23.6246805%2C%20-46.700688%5D%2C%20%5B-23.5595676%2C%20-46.6651815%5D%2C%20%5B-23.5902921%2C%20-46.6342251%5D%2C%20%5B-23.6245537%2C%20-46.7009911%5D%2C%20%5B-23.6246039%2C%20-46.701129200000004%5D%2C%20%5B-23.5593657%2C%20-46.6664886%5D%2C%20%5B-23.6246512%2C%20-46.7012253%5D%2C%20%5B-23.559357300000002%2C%20-46.666608399999994%5D%2C%20%5B-23.62508%2C%20-46.700829999999996%5D%2C%20%5B-23.5591479%2C%20-46.6665651%5D%2C%20%5B-23.559243%2C%20-46.6662783%5D%2C%20%5B-23.49942%2C%20-46.83712%5D%2C%20%5B-23.5681581%2C%20-46.648213%5D%2C%20%5B-23.559243%2C%20-46.6662783%5D%2C%20%5B-23.5513271%2C%20-46.678276700000005%5D%2C%20%5B-23.55944%2C%20-46.666470000000004%5D%2C%20%5B-23.6251984%2C%20-46.7009311%5D%2C%20%5B-23.6328069%2C%20-46.6934561%5D%2C%20%5B-23.559358%2C%20-46.6664925%5D%2C%20%5B-23.5897093%2C%20-46.63414470000001%5D%2C%20%5B-23.583881100000003%2C%20-46.6736383%5D%2C%20%5B-23.5902921%2C%20-46.6342251%5D%2C%20%5B-23.5630458%2C%20-46.672651200000004%5D%2C%20%5B-23.5593337%2C%20-46.666548799999994%5D%2C%20%5B-23.6112972%2C%20-46.57073629999999%5D%2C%20%5B-23.5902921%2C%20-46.6342251%5D%2C%20%5B-23.5898961%2C%20-46.63470770000001%5D%2C%20%5B-23.564655%2C%20-46.680374900000004%5D%2C%20%5B-23.589739399999996%2C%20-46.6339828%5D%2C%20%5B-23.5901449%2C%20-46.634857000000004%5D%2C%20%5B-23.592574399999997%2C%20-46.648550799999995%5D%2C%20%5B-23.6113086%2C%20-46.5708697%5D%2C%20%5B-23.61126%2C%20-46.57101%5D%2C%20%5B-23.611171399999996%2C%20-46.571065000000004%5D%2C%20%5B-23.611154100000004%2C%20-46.571008899999995%5D%2C%20%5B-23.5897361%2C%20-46.6342802%5D%2C%20%5B-23.5593949%2C%20-46.6665817%5D%2C%20%5B-23.5578081%2C%20-46.6817216%5D%2C%20%5B-23.6113211%2C%20-46.5707727%5D%2C%20%5B-23.611273699999998%2C%20-46.570818%5D%2C%20%5B-23.5896776%2C%20-46.633922399999996%5D%2C%20%5B-23.6114832%2C%20-46.570899%5D%2C%20%5B-23.61135%2C%20-46.57091%5D%2C%20%5B-23.6113042%2C%20-46.5708159%5D%2C%20%5B-23.6113413%2C%20-46.5707881%5D%2C%20%5B-23.611366500000003%2C%20-46.5709412%5D%2C%20%5B-23.611489600000002%2C%20-46.570840600000004%5D%2C%20%5B-23.559419100000003%2C%20-46.6663381%5D%2C%20%5B-23.5688799%2C%20-46.6610875%5D%2C%20%5B-23.611196%2C%20-46.571191%5D%2C%20%5B-23.623522199999996%2C%20-46.5656995%5D%2C%20%5B-23.61148%2C%20-46.570809999999994%5D%2C%20%5B-23.5897059%2C%20-46.6340259%5D%2C%20%5B-23.576528500000002%2C%20-46.657221%5D%2C%20%5B-23.6113663%2C%20-46.570859999999996%5D%2C%20%5B-23.6234363%2C%20-46.5657323%5D%2C%20%5B-23.6114641%2C%20-46.570791%5D%2C%20%5B-23.581313100000003%2C%20-46.680536100000005%5D%2C%20%5B-23.55931%2C%20-46.66663%5D%2C%20%5B-23.56342%2C%20-46.65128%5D%2C%20%5B-23.559365300000003%2C%20-46.6664751%5D%2C%20%5B-23.611434699999997%2C%20-46.5707262%5D%2C%20%5B-23.623587899999997%2C%20-46.5657363%5D%2C%20%5B-23.6190552%2C%20-46.565603100000004%5D%2C%20%5B-23.611284%2C%20-46.5710134%5D%2C%20%5B-23.6114657%2C%20-46.5707776%5D%2C%20%5B-23.6113924%2C%20-46.570781%5D%2C%20%5B-23.611348899999996%2C%20-46.5708553%5D%2C%20%5B-23.589699%2C%20-46.6338321%5D%2C%20%5B-23.5897046%2C%20-46.6342625%5D%2C%20%5B-23.559320800000002%2C%20-46.6665461%5D%2C%20%5B-23.499651%2C%20-46.6443482%5D%2C%20%5B-23.5897766%2C%20-46.6350174%5D%2C%20%5B-23.571854100000003%2C%20-46.6435307%5D%2C%20%5B-23.5897042%2C%20-46.6340583%5D%2C%20%5B-23.5592778%2C%20-46.66649279999999%5D%2C%20%5B-23.5897152%2C%20-46.6339973%5D%2C%20%5B-23.565479999999997%2C%20-46.666290000000004%5D%2C%20%5B-23.589733300000002%2C%20-46.6340835%5D%2C%20%5B-23.626772600000002%2C%20-46.5798585%5D%2C%20%5B-23.6114035%2C%20-46.5707249%5D%2C%20%5B-23.5897353%2C%20-46.6342724%5D%2C%20%5B-23.5691332%2C%20-46.660216299999995%5D%2C%20%5B-23.5593737%2C%20-46.6663778%5D%2C%20%5B-23.589741500000002%2C%20-46.6342876%5D%2C%20%5B-23.589710999999998%2C%20-46.6341624%5D%2C%20%5B-23.5898427%2C%20-46.634286100000004%5D%2C%20%5B-23.5899127%2C%20-46.63473629999999%5D%2C%20%5B-23.5552%2C%20-46.65715%5D%2C%20%5B-23.5610824%2C%20-46.6920423%5D%2C%20%5B-23.5706603%2C%20-46.693383000000004%5D%2C%20%5B-23.589797100000002%2C%20-46.634184000000005%5D%2C%20%5B-23.5898427%2C%20-46.634286100000004%5D%2C%20%5B-23.6113438%2C%20-46.570978000000004%5D%2C%20%5B-23.5896775%2C%20-46.6342089%5D%2C%20%5B-23.5592277%2C%20-46.663133200000004%5D%2C%20%5B-23.58854%2C%20-46.67881%5D%2C%20%5B-23.5691248%2C%20-46.6612174%5D%2C%20%5B-23.58967%2C%20-46.63399999999999%5D%2C%20%5B-23.559376399999998%2C%20-46.663188899999994%5D%2C%20%5B-23.5462117%2C%20-46.6486085%5D%2C%20%5B-23.5896768%2C%20-46.6341683%5D%2C%20%5B-23.6090984%2C%20-46.6666032%5D%2C%20%5B-23.6114817%2C%20-46.5706559%5D%2C%20%5B-23.6114035%2C%20-46.5708554%5D%2C%20%5B-23.61151%2C%20-46.57074%5D%2C%20%5B-23.5592587%2C%20-46.66303%5D%2C%20%5B-23.589722199999997%2C%20-46.6341299%5D%2C%20%5B-23.5690166%2C%20-46.661077%5D%2C%20%5B-23.5593704%2C%20-46.6632237%5D%2C%20%5B-23.536877800000003%2C%20-46.663444500000004%5D%2C%20%5B-23.6114086%2C%20-46.5707626%5D%2C%20%5B-23.5036558%2C%20-46.6370967%5D%2C%20%5B-23.513920199999998%2C%20-46.6191831%5D%2C%20%5B-23.5144517%2C%20-46.616363299999996%5D%2C%20%5B-23.5690601%2C%20-46.661112700000004%5D%2C%20%5B-23.5036539%2C%20-46.63715429999999%5D%2C%20%5B-23.5595012%2C%20-46.6631188%5D%2C%20%5B-23.5617133%2C%20-46.658159000000005%5D%2C%20%5B-23.55575%2C%20-46.655261700000004%5D%2C%20%5B-23.5595012%2C%20-46.6631188%5D%2C%20%5B-23.559364600000002%2C%20-46.6632126%5D%2C%20%5B-23.5542748%2C%20-46.6561255%5D%2C%20%5B-23.5592926%2C%20-46.6631932%5D%2C%20%5B-23.5593606%2C%20-46.6631198%5D%2C%20%5B-23.5716401%2C%20-46.688249600000006%5D%2C%20%5B-23.56023173%2C%20-46.66414962%5D%2C%20%5B-23.5033043%2C%20-46.636905%5D%2C%20%5B-23.6113175%2C%20-46.570826200000006%5D%2C%20%5B-23.5593419%2C%20-46.6632209%5D%2C%20%5B-23.5619878%2C%20-46.6582328%5D%2C%20%5B-23.6116444%2C%20-46.5705324%5D%2C%20%5B-23.558985500000002%2C%20-46.6632146%5D%2C%20%5B-23.61134745%2C%20-46.57079129%5D%2C%20%5B-23.503642499999998%2C%20-46.63718660000001%5D%2C%20%5B-23.6105865%2C%20-46.570705%5D%2C%20%5B-23.5036788%2C%20-46.637128999999995%5D%2C%20%5B-23.5037043%2C%20-46.6327645%5D%2C%20%5B-23.5621533%2C%20-46.6578083%5D%2C%20%5B-23.619060100000002%2C%20-46.5656531%5D%2C%20%5B-23.611265%2C%20-46.571259999999995%5D%2C%20%5B-23.5690588%2C%20-46.661178799999995%5D%2C%20%5B-23.503572199999997%2C%20-46.6373399%5D%2C%20%5B-23.611106699999997%2C%20-46.5710737%5D%2C%20%5B-23.503427399999996%2C%20-46.637271999999996%5D%2C%20%5B-23.5630296%2C%20-46.667031099999996%5D%2C%20%5B-23.573636399999998%2C%20-46.6556252%5D%2C%20%5B-23.597008300000002%2C%20-46.574844299999995%5D%2C%20%5B-23.5592227%2C%20-46.6632374%5D%2C%20%5B-23.5536201%2C%20-46.69422720000001%5D%2C%20%5B-23.5595104%2C%20-46.663229%5D%2C%20%5B-23.503677%2C%20-46.6368987%5D%2C%20%5B-23.55945%2C%20-46.6632417%5D%2C%20%5B-23.559251800000002%2C%20-46.6630182%5D%2C%20%5B-23.5577831%2C%20-46.689819799999995%5D%2C%20%5B-23.559431699999998%2C%20-46.663317299999996%5D%2C%20%5B-23.5867741%2C%20-46.642758%5D%2C%20%5B-23.6113574%2C%20-46.570866200000005%5D%2C%20%5B-23.503575899999998%2C%20-46.6371187%5D%2C%20%5B-23.61134558%2C%20-46.57091107%5D%2C%20%5B-23.503660999999997%2C%20-46.6371771%5D%2C%20%5B-23.611381100000003%2C%20-46.570752299999995%5D%2C%20%5B-23.6114569%2C%20-46.5707386%5D%2C%20%5B-23.5036469%2C%20-46.637156700000006%5D%2C%20%5B-23.5032638%2C%20-46.624626299999996%5D%2C%20%5B-23.559287899999998%2C%20-46.6632155%5D%2C%20%5B-23.5036424%2C%20-46.6369836%5D%2C%20%5B-23.6113486%2C%20-46.5709126%5D%2C%20%5B-23.5601571%2C%20-46.677414500000005%5D%2C%20%5B-23.6111022%2C%20-46.57182%5D%2C%20%5B-23.611241399999997%2C%20-46.570844799999996%5D%2C%20%5B-23.5693051%2C%20-46.659924600000004%5D%2C%20%5B-23.558327300000002%2C%20-46.660576299999995%5D%2C%20%5B-23.5594438%2C%20-46.6633356%5D%2C%20%5B-23.5593885%2C%20-46.6632331%5D%2C%20%5B-23.611314%2C%20-46.57088793%5D%2C%20%5B-23.559423499999998%2C%20-46.6633392%5D%2C%20%5B-23.503640899999997%2C%20-46.637310299999996%5D%2C%20%5B-23.5032905%2C%20-46.636949200000004%5D%2C%20%5B-23.503256399999998%2C%20-46.6367743%5D%2C%20%5B-23.5588653%2C%20-46.6908072%5D%2C%20%5B-23.611430300000002%2C%20-46.570859999999996%5D%2C%20%5B-23.583412300000003%2C%20-46.6704481%5D%2C%20%5B-23.5035727%2C%20-46.63709984%5D%2C%20%5B-23.6234972%2C%20-46.5657367%5D%2C%20%5B-23.5033104%2C%20-46.6368075%5D%2C%20%5B-23.561847600000004%2C%20-46.6581413%5D%2C%20%5B-23.5032674%2C%20-46.63690220000001%5D%2C%20%5B-23.503442899999996%2C%20-46.637760799999995%5D%2C%20%5B-23.5578202%2C%20-46.689901%5D%2C%20%5B-23.5019996%2C%20-46.6273084%5D%2C%20%5B-23.5032578%2C%20-46.636745899999994%5D%2C%20%5B-23.5032054%2C%20-46.6370109%5D%2C%20%5B-23.5575996%2C%20-46.6895355%5D%2C%20%5B-23.5032828%2C%20-46.6368119%5D%2C%20%5B-23.5032569%2C%20-46.6370334%5D%2C%20%5B-23.5032128%2C%20-46.6379457%5D%2C%20%5B-23.61105%2C%20-46.6948029%5D%2C%20%5B-23.6112101%2C%20-46.5710416%5D%2C%20%5B-23.6019667%2C%20-46.673638200000006%5D%2C%20%5B-23.503258300000002%2C%20-46.636860299999995%5D%2C%20%5B-23.5036192%2C%20-46.6371554%5D%2C%20%5B-23.556455399999997%2C%20-46.750291600000004%5D%2C%20%5B-23.561027600000003%2C%20-46.68262670000001%5D%2C%20%5B-23.503649399999997%2C%20-46.6371391%5D%2C%20%5B-23.5034208%2C%20-46.6368915%5D%2C%20%5B-23.503198100000002%2C%20-46.63726629999999%5D%2C%20%5B-23.5032457%2C%20-46.6366457%5D%2C%20%5B-23.6467813%2C%20-46.630431099999996%5D%2C%20%5B-23.5612468%2C%20-46.6565113%5D%2C%20%5B-23.503257%2C%20-46.637504799999995%5D%2C%20%5B-23.503255300000003%2C%20-46.637527899999995%5D%2C%20%5B-23.5032685%2C%20-46.6367701%5D%2C%20%5B-23.546632000000002%2C%20-46.60423370000001%5D%2C%20%5B-23.5954224%2C%20-46.690711900000004%5D%2C%20%5B-23.5032237%2C%20-46.637033200000005%5D%2C%20%5B-23.5025158%2C%20-46.636489700000006%5D%2C%20%5B-23.503397500000002%2C%20-46.6366088%5D%2C%20%5B-23.50243945%2C%20-46.63649619%5D%2C%20%5B-23.5032727%2C%20-46.636787%5D%2C%20%5B-23.5032013%2C%20-46.6377976%5D%2C%20%5B-23.5036221%2C%20-46.63715870000001%5D%2C%20%5B-23.6114767%2C%20-46.5707417%5D%2C%20%5B-23.503197%2C%20-46.636861100000004%5D%2C%20%5B-23.611131600000004%2C%20-46.5711237%5D%2C%20%5B-23.6234899%2C%20-46.56568239999999%5D%2C%20%5B-23.5032882%2C%20-46.6367482%5D%2C%20%5B-23.503291%2C%20-46.636849%5D%2C%20%5B-23.5032675%2C%20-46.636933899999995%5D%2C%20%5B-23.5951242%2C%20-46.691146%5D%2C%20%5B-23.5595898%2C%20-46.6890604%5D%2C%20%5B-23.503200800000002%2C%20-46.637593200000005%5D%2C%20%5B-23.5032163%2C%20-46.6377011%5D%2C%20%5B-23.432194199999998%2C%20-45.068019%5D%2C%20%5B-23.5032193%2C%20-46.637714100000004%5D%2C%20%5B-23.503550399999998%2C%20-46.6374929%5D%2C%20%5B-23.5617439%2C%20-46.657928999999996%5D%2C%20%5B-23.5036461%2C%20-46.6371739%5D%2C%20%5B-23.5039759%2C%20-46.639198%5D%2C%20%5B-23.518191899999998%2C%20-46.6766396%5D%2C%20%5B-23.5035167%2C%20-46.637355%5D%2C%20%5B-23.5036583%2C%20-46.6368817%5D%2C%20%5B-23.503672199999997%2C%20-46.6372957%5D%2C%20%5B-23.5036414%2C%20-46.6367785%5D%2C%20%5B-23.593877300000003%2C%20-46.691242700000004%5D%2C%20%5B-23.5033387%2C%20-46.63721339999999%5D%2C%20%5B-23.5033095%2C%20-46.6372907%5D%2C%20%5B-23.503363399999998%2C%20-46.6369551%5D%2C%20%5B-23.530175%2C%20-46.666265%5D%2C%20%5B-23.5036347%2C%20-46.637124%5D%2C%20%5B-23.503322%2C%20-46.6366226%5D%2C%20%5B-23.4878848%2C%20-46.5947091%5D%2C%20%5B-23.5578345%2C%20-46.689876299999995%5D%2C%20%5B-23.503591%2C%20-46.6371741%5D%2C%20%5B-23.5823728%2C%20-46.6644769%5D%2C%20%5B-23.5616819%2C%20-46.658152%5D%2C%20%5B-23.5037175%2C%20-46.6371653%5D%2C%20%5B-23.975838500000002%2C%20-46.3011899%5D%2C%20%5B-23.503256600000004%2C%20-46.6371156%5D%2C%20%5B-23.6107181%2C%20-46.5702805%5D%2C%20%5B-23.503362699999997%2C%20-46.63673%5D%2C%20%5B-23.503292000000002%2C%20-46.6372564%5D%2C%20%5B-23.5032173%2C%20-46.6376465%5D%2C%20%5B-23.503255%2C%20-46.637324299999996%5D%2C%20%5B-23.5034308%2C%20-46.636473200000005%5D%2C%20%5B-23.611361499999997%2C%20-46.570837700000006%5D%2C%20%5B-23.50326%2C%20-46.6370583%5D%2C%20%5B-23.975371600000003%2C%20-46.300870700000004%5D%2C%20%5B-23.954715300000004%2C%20-46.346224%5D%2C%20%5B-23.975798899999997%2C%20-46.301235999999996%5D%2C%20%5B-23.503258300000002%2C%20-46.6372733%5D%2C%20%5B-23.503204399999998%2C%20-46.6368571%5D%2C%20%5B-23.503307100000004%2C%20-46.6370396%5D%2C%20%5B-23.50330782%2C%20-46.63752702%5D%2C%20%5B-23.62207%2C%20-46.56985%5D%2C%20%5B-23.5032122%2C%20-46.637111%5D%2C%20%5B-23.503190300000004%2C%20-46.6368144%5D%2C%20%5B-23.5036026%2C%20-46.6373307%5D%2C%20%5B-23.480531699999997%2C%20-46.6064783%5D%2C%20%5B-23.503313199999997%2C%20-46.6366607%5D%2C%20%5B-23.5157182%2C%20-46.619488%5D%2C%20%5B-23.503614000000002%2C%20-46.637297700000005%5D%2C%20%5B-23.5032991%2C%20-46.6371265%5D%2C%20%5B-23.503618%2C%20-46.637300700000004%5D%2C%20%5B-23.60177075%2C%20-46.67760154%5D%2C%20%5B-23.5032867%2C%20-46.6366951%5D%2C%20%5B-23.5032866%2C%20-46.6368266%5D%2C%20%5B-23.50329369%2C%20-46.6367841%5D%2C%20%5B-23.58443324%2C%20-46.60516321%5D%2C%20%5B-23.503291600000004%2C%20-46.6371331%5D%2C%20%5B-23.5033033%2C%20-46.636945000000004%5D%2C%20%5B-23.5036273%2C%20-46.6368185%5D%2C%20%5B-23.503277999999998%2C%20-46.63684979999999%5D%2C%20%5B-23.5033267%2C%20-46.6367883%5D%2C%20%5B-23.503308399999998%2C%20-46.637316299999995%5D%2C%20%5B-23.503295899999998%2C%20-46.63728270000001%5D%2C%20%5B-23.503284100000002%2C%20-46.6373566%5D%2C%20%5B-23.5031%2C%20-46.63692%5D%2C%20%5B-23.503335%2C%20-46.636675%5D%2C%20%5B-23.5032604%2C%20-46.636760100000004%5D%2C%20%5B-23.610817800000003%2C%20-46.5702857%5D%2C%20%5B-23.503289000000002%2C%20-46.636919899999995%5D%2C%20%5B-23.6111832%2C%20-46.5706626%5D%2C%20%5B-23.503284899999997%2C%20-46.637382200000005%5D%2C%20%5B-23.6115179%2C%20-46.570634399999996%5D%2C%20%5B-23.503245800000002%2C%20-46.636760200000005%5D%2C%20%5B-23.5032714%2C%20-46.6376718%5D%2C%20%5B-23.6220504%2C%20-46.5701294%5D%2C%20%5B-23.5036595%2C%20-46.6368117%5D%2C%20%5B-23.6113573%2C%20-46.570728700000004%5D%2C%20%5B-23.5047575%2C%20-46.628152%5D%2C%20%5B-23.50331184%2C%20-46.63734066%5D%2C%20%5B-23.6037844%2C%20-46.6446635%5D%2C%20%5B-23.6112857%2C%20-46.570795600000004%5D%2C%20%5B-23.503144%2C%20-46.6368201%5D%2C%20%5B-23.503297600000003%2C%20-46.635071999999994%5D%2C%20%5B-23.6114053%2C%20-46.6679377%5D%2C%20%5B-23.5032706%2C%20-46.6368144%5D%2C%20%5B-23.503453699999998%2C%20-46.6381879%5D%2C%20%5B-23.5032248%2C%20-46.6369166%5D%2C%20%5B-23.5032941%2C%20-46.636939500000004%5D%2C%20%5B-23.503383300000003%2C%20-46.63302%5D%2C%20%5B-23.503285%2C%20-46.6379517%5D%2C%20%5B-23.503304999999997%2C%20-46.6368483%5D%2C%20%5B-23.5585955%2C%20-46.6599003%5D%2C%20%5B-23.5033176%2C%20-46.6369607%5D%2C%20%5B-23.503308399999998%2C%20-46.6370028%5D%2C%20%5B-23.611780800000002%2C%20-46.5695641%5D%2C%20%5B-23.6028056%2C%20-46.6743477%5D%2C%20%5B-23.611415899999997%2C%20-46.570721%5D%2C%20%5B-23.6110598%2C%20-46.5710098%5D%2C%20%5B-23.61111%2C%20-46.57121%5D%2C%20%5B-23.61129%2C%20-46.5710217%5D%2C%20%5B-23.61133%2C%20-46.57136%5D%2C%20%5B-23.6114714%2C%20-46.570674100000005%5D%2C%20%5B-23.611185199999998%2C%20-46.5710471%5D%2C%20%5B-23.6114917%2C%20-46.570634999999996%5D%2C%20%5B-23.611147600000002%2C%20-46.571028000000005%5D%2C%20%5B-23.611147600000002%2C%20-46.5709583%5D%2C%20%5B-23.6111639%2C%20-46.5708754%5D%2C%20%5B-23.6113337%2C%20-46.570764600000004%5D%2C%20%5B-23.611252899999997%2C%20-46.57102379999999%5D%2C%20%5B-23.611598899999997%2C%20-46.570663700000004%5D%2C%20%5B-23.6112042%2C%20-46.571067299999996%5D%2C%20%5B-23.6113167%2C%20-46.5708367%5D%2C%20%5B-23.6111309%2C%20-46.5712652%5D%2C%20%5B-23.6110929%2C%20-46.5711355%5D%2C%20%5B-23.6111595%2C%20-46.571014%5D%2C%20%5B-23.6026476%2C%20-46.6453556%5D%2C%20%5B-23.611140399999996%2C%20-46.5712019%5D%2C%20%5B-23.6027646%2C%20-46.645182299999995%5D%2C%20%5B-23.565888%2C%20-46.6846089%5D%2C%20%5B-23.611128100000002%2C%20-46.5708975%5D%2C%20%5B-23.6111639%2C%20-46.5710143%5D%2C%20%5B-23.610940499999998%2C%20-46.570815100000004%5D%2C%20%5B-23.611096300000003%2C%20-46.57110479999999%5D%2C%20%5B-23.611162399999998%2C%20-46.5710234%5D%2C%20%5B-23.611147199999998%2C%20-46.5712045%5D%2C%20%5B-23.6110169%2C%20-46.5711359%5D%2C%20%5B-23.6111973%2C%20-46.5710136%5D%2C%20%5B-23.6025022%2C%20-46.6450023%5D%2C%20%5B-23.6111199%2C%20-46.571062899999994%5D%2C%20%5B-23.6112753%2C%20-46.5708652%5D%2C%20%5B-23.611356699999998%2C%20-46.57090170000001%5D%2C%20%5B-23.6110715%2C%20-46.5709414%5D%2C%20%5B-23.5976648%2C%20-46.6235027%5D%2C%20%5B-23.61124989%2C%20-46.57104947%5D%2C%20%5B-23.5740178%2C%20-46.69618320000001%5D%2C%20%5B-23.593481399999998%2C%20-46.6527237%5D%2C%20%5B-23.620590600000003%2C%20-46.6622467%5D%2C%20%5B-23.6027117%2C%20-46.6453367%5D%2C%20%5B-23.6110017%2C%20-46.5711467%5D%2C%20%5B-23.611186399999998%2C%20-46.571051399999995%5D%2C%20%5B-23.602951100000002%2C%20-46.645261%5D%2C%20%5B-23.6111339%2C%20-46.5717526%5D%2C%20%5B-23.6112239%2C%20-46.57100560000001%5D%2C%20%5B-23.6108462%2C%20-46.571473600000004%5D%2C%20%5B-23.6026436%2C%20-46.645322%5D%2C%20%5B-23.61320343%2C%20-46.57176448%5D%2C%20%5B-23.6112543%2C%20-46.5708784%5D%2C%20%5B-23.6111272%2C%20-46.570994899999995%5D%2C%20%5B-23.61118154%2C%20-46.57110295%5D%2C%20%5B-22.903056699999997%2C%20-43.1346819%5D%2C%20%5B-22.902098199999998%2C%20-43.114359%5D%2C%20%5B-23.602656399999997%2C%20-46.645094799999995%5D%2C%20%5B-23.60262936%2C%20-46.64534986%5D%2C%20%5B-23.6026706%2C%20-46.6650192%5D%2C%20%5B-23.6110216%2C%20-46.571107%5D%2C%20%5B-23.6135612%2C%20-46.576379700000004%5D%2C%20%5B-23.6026544%2C%20-46.64535720000001%5D%2C%20%5B-23.6160678%2C%20-46.665921999999995%5D%2C%20%5B-23.602760399999998%2C%20-46.6448974%5D%2C%20%5B-23.6027366%2C%20-46.6453516%5D%2C%20%5B-23.5695488%2C%20-46.672412200000004%5D%5D%2C%0A%20%20%20%20%20%20%20%20%20%20%20%20%20%20%20%20%7B%0A%20%20%20%20%20%20%20%20%20%20%20%20%20%20%20%20%20%20%20%20minOpacity%3A%200.5%2C%0A%20%20%20%20%20%20%20%20%20%20%20%20%20%20%20%20%20%20%20%20maxZoom%3A%2018%2C%0A%20%20%20%20%20%20%20%20%20%20%20%20%20%20%20%20%20%20%20%20max%3A%201.0%2C%0A%20%20%20%20%20%20%20%20%20%20%20%20%20%20%20%20%20%20%20%20radius%3A%2025%2C%0A%20%20%20%20%20%20%20%20%20%20%20%20%20%20%20%20%20%20%20%20blur%3A%2015%2C%0A%20%20%20%20%20%20%20%20%20%20%20%20%20%20%20%20%20%20%20%20gradient%3A%20null%0A%20%20%20%20%20%20%20%20%20%20%20%20%20%20%20%20%20%20%20%20%7D%29%0A%20%20%20%20%20%20%20%20%20%20%20%20%20%20%20%20.addTo%28map_f900fa382eea4d48bd36613919bd62a7%29%3B%0A%20%20%20%20%20%20%20%20%0A%3C/script%3E onload=\"this.contentDocument.open();this.contentDocument.write(    decodeURIComponent(this.getAttribute('data-html')));this.contentDocument.close();\" allowfullscreen webkitallowfullscreen mozallowfullscreen></iframe></div></div>"
            ],
            "text/plain": [
              "<folium.folium.Map at 0x7ff46a0ee0d0>"
            ]
          },
          "metadata": {
            "tags": []
          },
          "execution_count": 16
        }
      ]
    },
    {
      "cell_type": "markdown",
      "metadata": {
        "id": "WypBQY0o5y2M"
      },
      "source": [
        "# **MODULE IV : WHICH PRODUCT OF UBER IS USUALLY CHOOSEN BY CUSTOMER**"
      ]
    },
    {
      "cell_type": "code",
      "metadata": {
        "id": "70-s3CWOdF_g",
        "colab": {
          "base_uri": "https://localhost:8080/",
          "height": 453
        },
        "outputId": "2f450e58-e08f-4c98-c0e9-afabca11e7ce"
      },
      "source": [
        "# WHICH PRODUCT OF UBER IS USUALLY CHOOSEN BY CUSTOMER\n",
        "pro_type_uber = pd.Series(completed_trips.product_type.value_counts().sort_index(ascending=False))\n",
        "# Transforming series in dataframe\n",
        "df = pd.DataFrame(pro_type_uber)\n",
        "# Including new column with trips portion\n",
        "df['%'] = (completed_trips.product_type.value_counts().sort_index(ascending=False)/completed_trips.product_type.size*100).round(1)\n",
        "#Renaming columns labels\n",
        "df.rename(columns={'product_type':'Total Rides'}, inplace=True)\n",
        "print(df)\n",
        "# Plotting product types count\n",
        "completed_trips['product_type'].value_counts().plot(kind='bar');"
      ],
      "execution_count": null,
      "outputs": [
        {
          "output_type": "stream",
          "text": [
            "                      Total Rides     %\n",
            "UberX                         401  88.5\n",
            "UberEATS Marketplace            9   2.0\n",
            "Pool                           39   8.6\n",
            "Black                           4   0.9\n"
          ],
          "name": "stdout"
        },
        {
          "output_type": "display_data",
          "data": {
            "image/png": "[encoded data removed]",
            "text/plain": [
              "<Figure size 432x288 with 1 Axes>"
            ]
          },
          "metadata": {
            "tags": [],
            "needs_background": "light"
          }
        }
      ]
    },
    {
      "cell_type": "markdown",
      "metadata": {
        "id": "OPWPU3vJ7I9W"
      },
      "source": [
        "# **MODULE V : FIND OUT AVERAGE FARE, DISTANCE, AMOUNT & TIME SPENT ON EACH RIDES**"
      ]
    },
    {
      "cell_type": "code",
      "metadata": {
        "colab": {
          "base_uri": "https://localhost:8080/"
        },
        "id": "R8WScs5u6ppq",
        "outputId": "a03ef903-2fd7-47d9-f74d-fd185306b147"
      },
      "source": [
        "# FIND OUT AVERAGE FARE, DISTANCE, AMOUNT & TIME SPENT ON EACH RIDES\n",
        "print('Average. Fare:', round(completed_trips.fare_amount.mean(),1),'BRL')\n",
        "print('Average Distance:',round(completed_trips.distance_in_km.mean(),1),'km')\n",
        "print('Average Fare/Km:',round(completed_trips.fare_amount.sum()/completed_trips.distance_in_km.sum(),1),'BRL/km')\n",
        "print('Average Time Spent on Trips:',round(completed_trips.trip_duration.mean(),1),'minutes')\n",
        "print('')\n",
        "print('Total fare amount:', round(completed_trips.fare_amount.sum(),1),'BRL')\n",
        "print('Total distance:',round(completed_trips.distance_in_km.sum(),1),'km')\n",
        "print('Total time spent on trips:',round(completed_trips.trip_duration.sum()/60,1),'hours')"
      ],
      "execution_count": null,
      "outputs": [
        {
          "output_type": "stream",
          "text": [
            "Average. Fare: 19.8 BRL\n",
            "Average Distance: 8.0 km\n",
            "Average Fare/Km: 2.5 BRL/km\n",
            "Average Time Spent on Trips: 21.3 minutes\n",
            "\n",
            "Total fare amount: 8970.8 BRL\n",
            "Total distance: 3606.9 km\n",
            "Total time spent on trips: 161.1 hours\n"
          ],
          "name": "stdout"
        }
      ]
    },
    {
      "cell_type": "markdown",
      "metadata": {
        "id": "SPeVWNJ_B6qd"
      },
      "source": [
        "# **MODULE VI : FINDING WHICH WEEKDAY IS HAVING THE HIGHEST AVERAGE FARES/KM RIDDEN**"
      ]
    },
    {
      "cell_type": "code",
      "metadata": {
        "colab": {
          "base_uri": "https://localhost:8080/",
          "height": 266
        },
        "id": "6dLu7GTkBpXf",
        "outputId": "ad938468-6820-4d57-d1dd-fcb5fe270093"
      },
      "source": [
        "# FINDING WHICH WEEKDAY IS HAVING THE HIGHEST AVERAGE FARES/KM RIDDEN\n",
        "amount_table = completed_trips.pivot_table(values='fare_amount',aggfunc='sum',columns='weekday', index='year').round(1)\n",
        "column_order = ['Mon','Tue','Wed','Thu','Fri','Sat','Sun']\n",
        "amount_table = amount_table.reindex(column_order, axis=1)\n",
        "\n",
        "distance_table = completed_trips.pivot_table(values='distance_in_km',aggfunc='sum',columns='weekday', index='year').round(1)\n",
        "distance_table = distance_table.reindex(column_order, axis=1)\n",
        "\n",
        "(amount_table/distance_table).round(1)"
      ],
      "execution_count": null,
      "outputs": [
        {
          "output_type": "execute_result",
          "data": {
            "text/html": [
              "<div>\n",
              "<style scoped>\n",
              "    .dataframe tbody tr th:only-of-type {\n",
              "        vertical-align: middle;\n",
              "    }\n",
              "\n",
              "    .dataframe tbody tr th {\n",
              "        vertical-align: top;\n",
              "    }\n",
              "\n",
              "    .dataframe thead th {\n",
              "        text-align: right;\n",
              "    }\n",
              "</style>\n",
              "<table border=\"1\" class=\"dataframe\">\n",
              "  <thead>\n",
              "    <tr style=\"text-align: right;\">\n",
              "      <th>weekday</th>\n",
              "      <th>Mon</th>\n",
              "      <th>Tue</th>\n",
              "      <th>Wed</th>\n",
              "      <th>Thu</th>\n",
              "      <th>Fri</th>\n",
              "      <th>Sat</th>\n",
              "      <th>Sun</th>\n",
              "    </tr>\n",
              "    <tr>\n",
              "      <th>year</th>\n",
              "      <th></th>\n",
              "      <th></th>\n",
              "      <th></th>\n",
              "      <th></th>\n",
              "      <th></th>\n",
              "      <th></th>\n",
              "      <th></th>\n",
              "    </tr>\n",
              "  </thead>\n",
              "  <tbody>\n",
              "    <tr>\n",
              "      <th>2016</th>\n",
              "      <td>NaN</td>\n",
              "      <td>NaN</td>\n",
              "      <td>2.8</td>\n",
              "      <td>2.4</td>\n",
              "      <td>NaN</td>\n",
              "      <td>2.1</td>\n",
              "      <td>2.9</td>\n",
              "    </tr>\n",
              "    <tr>\n",
              "      <th>2017</th>\n",
              "      <td>2.8</td>\n",
              "      <td>2.1</td>\n",
              "      <td>2.4</td>\n",
              "      <td>2.2</td>\n",
              "      <td>2.7</td>\n",
              "      <td>2.1</td>\n",
              "      <td>2.7</td>\n",
              "    </tr>\n",
              "    <tr>\n",
              "      <th>2018</th>\n",
              "      <td>2.0</td>\n",
              "      <td>1.9</td>\n",
              "      <td>3.0</td>\n",
              "      <td>2.0</td>\n",
              "      <td>2.2</td>\n",
              "      <td>2.5</td>\n",
              "      <td>2.2</td>\n",
              "    </tr>\n",
              "    <tr>\n",
              "      <th>2019</th>\n",
              "      <td>2.7</td>\n",
              "      <td>2.4</td>\n",
              "      <td>3.2</td>\n",
              "      <td>2.3</td>\n",
              "      <td>3.1</td>\n",
              "      <td>2.9</td>\n",
              "      <td>3.7</td>\n",
              "    </tr>\n",
              "    <tr>\n",
              "      <th>2020</th>\n",
              "      <td>2.7</td>\n",
              "      <td>2.4</td>\n",
              "      <td>2.7</td>\n",
              "      <td>2.6</td>\n",
              "      <td>2.4</td>\n",
              "      <td>3.1</td>\n",
              "      <td>2.8</td>\n",
              "    </tr>\n",
              "    <tr>\n",
              "      <th>2021</th>\n",
              "      <td>NaN</td>\n",
              "      <td>NaN</td>\n",
              "      <td>3.1</td>\n",
              "      <td>NaN</td>\n",
              "      <td>NaN</td>\n",
              "      <td>NaN</td>\n",
              "      <td>3.6</td>\n",
              "    </tr>\n",
              "  </tbody>\n",
              "</table>\n",
              "</div>"
            ],
            "text/plain": [
              "weekday  Mon  Tue  Wed  Thu  Fri  Sat  Sun\n",
              "year                                      \n",
              "2016     NaN  NaN  2.8  2.4  NaN  2.1  2.9\n",
              "2017     2.8  2.1  2.4  2.2  2.7  2.1  2.7\n",
              "2018     2.0  1.9  3.0  2.0  2.2  2.5  2.2\n",
              "2019     2.7  2.4  3.2  2.3  3.1  2.9  3.7\n",
              "2020     2.7  2.4  2.7  2.6  2.4  3.1  2.8\n",
              "2021     NaN  NaN  3.1  NaN  NaN  NaN  3.6"
            ]
          },
          "metadata": {
            "tags": []
          },
          "execution_count": 23
        }
      ]
    },
    {
      "cell_type": "code",
      "metadata": {
        "id": "6rG_un1FCTf3"
      },
      "source": [
        ""
      ],
      "execution_count": null,
      "outputs": []
    }
  ]
}